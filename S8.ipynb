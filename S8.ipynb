{
  "cells": [
    {
      "cell_type": "markdown",
      "metadata": {
        "id": "jpN8gqV7EZPK"
      },
      "source": [
        "#CIFAR-10 Dataset PyTorch implementation"
      ]
    },
    {
      "cell_type": "markdown",
      "metadata": {
        "id": "b-drurlXSk4m"
      },
      "source": [
        "## Load srouce code files from git"
      ]
    },
    {
      "cell_type": "code",
      "execution_count": 1,
      "metadata": {
        "colab": {
          "base_uri": "https://localhost:8080/"
        },
        "id": "Gh5r-WDDlYR6",
        "outputId": "f8a63d88-bd97-4209-f10e-ed12a39360f9"
      },
      "outputs": [
        {
          "output_type": "stream",
          "name": "stdout",
          "text": [
            "Cloning into 'cifar-s8'...\n",
            "remote: Enumerating objects: 14, done.\u001b[K\n",
            "remote: Counting objects: 100% (14/14), done.\u001b[K\n",
            "remote: Compressing objects: 100% (11/11), done.\u001b[K\n",
            "remote: Total 14 (delta 2), reused 0 (delta 0), pack-reused 0\u001b[K\n",
            "Unpacking objects: 100% (14/14), 7.50 KiB | 2.50 MiB/s, done.\n"
          ]
        }
      ],
      "source": [
        "import os, sys, importlib\n",
        "\n",
        "user = \"Paurnima-Chavan\"\n",
        "repo = \"cifar-s8\"\n",
        "src_dir = \"src\"\n",
        "\n",
        "if os.path.isdir(repo):\n",
        "    !rm -rf {repo}\n",
        "\n",
        "!git clone https://github.com/{user}/{repo}.git\n",
        "\n",
        "path = f\"{repo}/{src_dir}\"\n",
        "if not path in sys.path:\n",
        "    sys.path.insert(1, path)"
      ]
    },
    {
      "cell_type": "code",
      "execution_count": 2,
      "metadata": {
        "id": "LRn5RMQIjo29"
      },
      "outputs": [],
      "source": [
        "import torch\n",
        "import torch.optim as optim\n",
        "import torch.nn.functional as F\n",
        "from utils import train, test,plot_dataset_images, plot_train_test_accuracy_loss,reset_variables\n",
        "from dataset import load_cifar10_data\n",
        "from model_1 import Net_1, model_summary\n",
        "from model_2 import Net_2\n",
        "from model_3 import Net_3"
      ]
    },
    {
      "cell_type": "markdown",
      "metadata": {
        "id": "m1mXLDtSE9UP"
      },
      "source": [
        "## Load CIFAR10 Dataset"
      ]
    },
    {
      "cell_type": "code",
      "execution_count": 5,
      "metadata": {
        "id": "6OSlAv8UjUId"
      },
      "outputs": [],
      "source": [
        "import torch\n",
        "import torchvision\n",
        "import numpy as np\n",
        "import matplotlib.pyplot as plt\n",
        "import torch.nn as nn\n",
        "import torch.nn.functional as F\n",
        "from torchvision.datasets import CIFAR10\n",
        "from torchvision.transforms import ToTensor\n",
        "from torchvision.utils import make_grid\n",
        "from torch.utils.data.dataloader import DataLoader\n",
        "from torch.utils.data import random_split\n",
        "\n",
        "from torchvision import datasets, transforms\n",
        "%matplotlib inline"
      ]
    },
    {
      "cell_type": "code",
      "execution_count": 3,
      "metadata": {
        "colab": {
          "base_uri": "https://localhost:8080/"
        },
        "id": "94BxVVBP3WwS",
        "outputId": "b2a061aa-3683-4dd3-94c9-18f4c8d8b4f6"
      },
      "outputs": [
        {
          "output_type": "stream",
          "name": "stdout",
          "text": [
            "CUDA Available? False\n"
          ]
        },
        {
          "output_type": "execute_result",
          "data": {
            "text/plain": [
              "device(type='cpu')"
            ]
          },
          "metadata": {},
          "execution_count": 3
        }
      ],
      "source": [
        "# CUDA?\n",
        "cuda = torch.cuda.is_available()\n",
        "print(\"CUDA Available?\", cuda)\n",
        "#------------- added below code\n",
        "device = torch.device(\"cuda\" if cuda else \"cpu\")\n",
        "device"
      ]
    },
    {
      "cell_type": "code",
      "execution_count": 6,
      "metadata": {
        "colab": {
          "base_uri": "https://localhost:8080/"
        },
        "id": "NeKbGVGEjWqe",
        "outputId": "baa7f96d-44d8-4ac2-a5db-a8a966ed5a1c"
      },
      "outputs": [
        {
          "output_type": "stream",
          "name": "stdout",
          "text": [
            "Downloading https://www.cs.toronto.edu/~kriz/cifar-10-python.tar.gz to data/cifar-10-python.tar.gz\n"
          ]
        },
        {
          "output_type": "stream",
          "name": "stderr",
          "text": [
            "100%|██████████| 170498071/170498071 [00:02<00:00, 75591338.00it/s]\n"
          ]
        },
        {
          "output_type": "stream",
          "name": "stdout",
          "text": [
            "Extracting data/cifar-10-python.tar.gz to data/\n"
          ]
        }
      ],
      "source": [
        "dataset  = CIFAR10(root='data/', download=True)\n",
        "test_dataset = CIFAR10(root='data/', train=False)"
      ]
    },
    {
      "cell_type": "code",
      "execution_count": 7,
      "metadata": {
        "colab": {
          "base_uri": "https://localhost:8080/"
        },
        "id": "FeeE07D0QJsL",
        "outputId": "5735a63e-91ea-47f2-ff1c-8622225f7b18"
      },
      "outputs": [
        {
          "output_type": "stream",
          "name": "stdout",
          "text": [
            "Mean : [0.49139968 0.48215841 0.44653091]   STD: [0.24703223 0.24348513 0.26158784]\n"
          ]
        }
      ],
      "source": [
        "data = dataset.data / 255 # data is numpy array\n",
        "\n",
        "mean = data.mean(axis = (0,1,2))\n",
        "std = data.std(axis = (0,1,2))\n",
        "print(f\"Mean : {mean}   STD: {std}\")"
      ]
    },
    {
      "cell_type": "code",
      "execution_count": 8,
      "metadata": {
        "colab": {
          "base_uri": "https://localhost:8080/"
        },
        "id": "tGsDOOi_jhr-",
        "outputId": "800ebb89-db70-4607-d64b-7a1a57528a2c"
      },
      "outputs": [
        {
          "output_type": "execute_result",
          "data": {
            "text/plain": [
              "['airplane',\n",
              " 'automobile',\n",
              " 'bird',\n",
              " 'cat',\n",
              " 'deer',\n",
              " 'dog',\n",
              " 'frog',\n",
              " 'horse',\n",
              " 'ship',\n",
              " 'truck']"
            ]
          },
          "metadata": {},
          "execution_count": 8
        }
      ],
      "source": [
        "classes = dataset.classes\n",
        "classes"
      ]
    },
    {
      "cell_type": "code",
      "execution_count": 9,
      "metadata": {
        "colab": {
          "base_uri": "https://localhost:8080/"
        },
        "id": "cSLhtWVcjhvH",
        "outputId": "48559727-336d-488d-9833-9cefdf3d921a"
      },
      "outputs": [
        {
          "output_type": "execute_result",
          "data": {
            "text/plain": [
              "{'frog': 5000,\n",
              " 'truck': 5000,\n",
              " 'deer': 5000,\n",
              " 'automobile': 5000,\n",
              " 'bird': 5000,\n",
              " 'horse': 5000,\n",
              " 'ship': 5000,\n",
              " 'cat': 5000,\n",
              " 'dog': 5000,\n",
              " 'airplane': 5000}"
            ]
          },
          "metadata": {},
          "execution_count": 9
        }
      ],
      "source": [
        "class_count = {}\n",
        "for _, index in dataset:\n",
        "    label = classes[index]\n",
        "    if label not in class_count:\n",
        "        class_count[label] = 0\n",
        "    class_count[label] += 1\n",
        "class_count"
      ]
    },
    {
      "cell_type": "code",
      "execution_count": 4,
      "metadata": {
        "colab": {
          "base_uri": "https://localhost:8080/"
        },
        "id": "avCKK1uL4A68",
        "outputId": "2d4e352c-e2b5-45b0-9b7e-9d210c71cf4d"
      },
      "outputs": [
        {
          "output_type": "stream",
          "name": "stdout",
          "text": [
            "Downloading https://www.cs.toronto.edu/~kriz/cifar-10-python.tar.gz to data/cifar-10-python.tar.gz\n"
          ]
        },
        {
          "output_type": "stream",
          "name": "stderr",
          "text": [
            "100%|██████████| 170498071/170498071 [00:02<00:00, 78922659.27it/s]\n"
          ]
        },
        {
          "output_type": "stream",
          "name": "stdout",
          "text": [
            "Extracting data/cifar-10-python.tar.gz to data/\n"
          ]
        }
      ],
      "source": [
        "batch_size = 64\n",
        "train_loader , test_loader = load_cifar10_data(batch_size=batch_size) #128"
      ]
    },
    {
      "cell_type": "code",
      "execution_count": 12,
      "metadata": {
        "colab": {
          "base_uri": "https://localhost:8080/",
          "height": 367
        },
        "id": "bHxECC7Qjhyn",
        "outputId": "0be1511d-f979-4bcd-d464-d3d602483905"
      },
      "outputs": [
        {
          "output_type": "display_data",
          "data": {
            "text/plain": [
              "<Figure size 2500x400 with 18 Axes>"
            ],
            "image/png": "[encoded data removed]"
          },
          "metadata": {}
        }
      ],
      "source": [
        "plot_dataset_images(train_loader, 18)"
      ]
    },
    {
      "cell_type": "markdown",
      "metadata": {
        "id": "LtkCF973FCMw"
      },
      "source": [
        "## Load the model"
      ]
    },
    {
      "cell_type": "markdown",
      "metadata": {
        "id": "HvUHmkmbfx0x"
      },
      "source": [
        "### Model Using Batch Normalization"
      ]
    },
    {
      "cell_type": "code",
      "source": [
        "model = Net_1().to(device)\n",
        "model_summary(model, input_size=(3, 32, 32))"
      ],
      "metadata": {
        "outputId": "be97e0d9-56ea-4914-ac4a-5931cbc23275",
        "colab": {
          "base_uri": "https://localhost:8080/"
        },
        "id": "LGS1BC2lfx05"
      },
      "execution_count": 15,
      "outputs": [
        {
          "output_type": "stream",
          "name": "stdout",
          "text": [
            "----------------------------------------------------------------\n",
            "        Layer (type)               Output Shape         Param #\n",
            "================================================================\n",
            "            Conv2d-1            [-1, 8, 32, 32]             216\n",
            "       BatchNorm2d-2            [-1, 8, 32, 32]              16\n",
            "            Conv2d-3            [-1, 8, 32, 32]             576\n",
            "       BatchNorm2d-4            [-1, 8, 32, 32]              16\n",
            "            Conv2d-5            [-1, 8, 32, 32]             576\n",
            "       BatchNorm2d-6            [-1, 8, 32, 32]              16\n",
            "        BasicBlock-7            [-1, 8, 32, 32]               0\n",
            "            Conv2d-8            [-1, 8, 32, 32]             576\n",
            "       BatchNorm2d-9            [-1, 8, 32, 32]              16\n",
            "           Conv2d-10            [-1, 8, 32, 32]             576\n",
            "      BatchNorm2d-11            [-1, 8, 32, 32]              16\n",
            "       BasicBlock-12            [-1, 8, 32, 32]               0\n",
            "           Conv2d-13           [-1, 16, 16, 16]           1,152\n",
            "      BatchNorm2d-14           [-1, 16, 16, 16]              32\n",
            "           Conv2d-15           [-1, 16, 16, 16]           2,304\n",
            "      BatchNorm2d-16           [-1, 16, 16, 16]              32\n",
            "           Conv2d-17           [-1, 16, 16, 16]             128\n",
            "      BatchNorm2d-18           [-1, 16, 16, 16]              32\n",
            "       BasicBlock-19           [-1, 16, 16, 16]               0\n",
            "           Conv2d-20           [-1, 16, 16, 16]           2,304\n",
            "      BatchNorm2d-21           [-1, 16, 16, 16]              32\n",
            "           Conv2d-22           [-1, 16, 16, 16]           2,304\n",
            "      BatchNorm2d-23           [-1, 16, 16, 16]              32\n",
            "       BasicBlock-24           [-1, 16, 16, 16]               0\n",
            "           Conv2d-25             [-1, 32, 8, 8]           4,608\n",
            "      BatchNorm2d-26             [-1, 32, 8, 8]              64\n",
            "           Conv2d-27             [-1, 32, 8, 8]           9,216\n",
            "      BatchNorm2d-28             [-1, 32, 8, 8]              64\n",
            "           Conv2d-29             [-1, 32, 8, 8]             512\n",
            "      BatchNorm2d-30             [-1, 32, 8, 8]              64\n",
            "       BasicBlock-31             [-1, 32, 8, 8]               0\n",
            "           Conv2d-32             [-1, 32, 8, 8]           9,216\n",
            "      BatchNorm2d-33             [-1, 32, 8, 8]              64\n",
            "           Conv2d-34             [-1, 32, 8, 8]           9,216\n",
            "      BatchNorm2d-35             [-1, 32, 8, 8]              64\n",
            "       BasicBlock-36             [-1, 32, 8, 8]               0\n",
            "AdaptiveAvgPool2d-37             [-1, 32, 1, 1]               0\n",
            "           Linear-38                   [-1, 10]             330\n",
            "================================================================\n",
            "Total params: 44,370\n",
            "Trainable params: 44,370\n",
            "Non-trainable params: 0\n",
            "----------------------------------------------------------------\n",
            "Input size (MB): 0.01\n",
            "Forward/backward pass size (MB): 1.31\n",
            "Params size (MB): 0.17\n",
            "Estimated Total Size (MB): 1.49\n",
            "----------------------------------------------------------------\n"
          ]
        }
      ]
    },
    {
      "cell_type": "markdown",
      "metadata": {
        "id": "d6zoYnQYxBxQ"
      },
      "source": [
        "### Model Using Group Normalization"
      ]
    },
    {
      "cell_type": "code",
      "source": [
        "model = Net_2().to(device)\n",
        "model_summary(model, input_size=(3, 32, 32))"
      ],
      "metadata": {
        "outputId": "320bd547-7c2e-4685-8436-2b1bdfebac1f",
        "colab": {
          "base_uri": "https://localhost:8080/"
        },
        "id": "mqe4XjJXxBxW"
      },
      "execution_count": 6,
      "outputs": [
        {
          "output_type": "stream",
          "name": "stdout",
          "text": [
            "----------------------------------------------------------------\n",
            "        Layer (type)               Output Shape         Param #\n",
            "================================================================\n",
            "            Conv2d-1            [-1, 8, 32, 32]             216\n",
            "         GroupNorm-2            [-1, 8, 32, 32]              16\n",
            "            Conv2d-3            [-1, 8, 32, 32]             576\n",
            "         GroupNorm-4            [-1, 8, 32, 32]              16\n",
            "            Conv2d-5            [-1, 8, 32, 32]             576\n",
            "         GroupNorm-6            [-1, 8, 32, 32]              16\n",
            "        BasicBlock-7            [-1, 8, 32, 32]               0\n",
            "            Conv2d-8            [-1, 8, 32, 32]             576\n",
            "         GroupNorm-9            [-1, 8, 32, 32]              16\n",
            "           Conv2d-10            [-1, 8, 32, 32]             576\n",
            "        GroupNorm-11            [-1, 8, 32, 32]              16\n",
            "       BasicBlock-12            [-1, 8, 32, 32]               0\n",
            "           Conv2d-13           [-1, 16, 16, 16]           1,152\n",
            "        GroupNorm-14           [-1, 16, 16, 16]              32\n",
            "           Conv2d-15           [-1, 16, 16, 16]           2,304\n",
            "        GroupNorm-16           [-1, 16, 16, 16]              32\n",
            "           Conv2d-17           [-1, 16, 16, 16]             128\n",
            "        GroupNorm-18           [-1, 16, 16, 16]              32\n",
            "       BasicBlock-19           [-1, 16, 16, 16]               0\n",
            "           Conv2d-20           [-1, 16, 16, 16]           2,304\n",
            "        GroupNorm-21           [-1, 16, 16, 16]              32\n",
            "           Conv2d-22           [-1, 16, 16, 16]           2,304\n",
            "        GroupNorm-23           [-1, 16, 16, 16]              32\n",
            "       BasicBlock-24           [-1, 16, 16, 16]               0\n",
            "           Conv2d-25             [-1, 32, 8, 8]           4,608\n",
            "        GroupNorm-26             [-1, 32, 8, 8]              64\n",
            "           Conv2d-27             [-1, 32, 8, 8]           9,216\n",
            "        GroupNorm-28             [-1, 32, 8, 8]              64\n",
            "           Conv2d-29             [-1, 32, 8, 8]             512\n",
            "        GroupNorm-30             [-1, 32, 8, 8]              64\n",
            "       BasicBlock-31             [-1, 32, 8, 8]               0\n",
            "           Conv2d-32             [-1, 32, 8, 8]           9,216\n",
            "        GroupNorm-33             [-1, 32, 8, 8]              64\n",
            "           Conv2d-34             [-1, 32, 8, 8]           9,216\n",
            "        GroupNorm-35             [-1, 32, 8, 8]              64\n",
            "       BasicBlock-36             [-1, 32, 8, 8]               0\n",
            "AdaptiveAvgPool2d-37             [-1, 32, 1, 1]               0\n",
            "           Linear-38                   [-1, 10]             330\n",
            "================================================================\n",
            "Total params: 44,370\n",
            "Trainable params: 44,370\n",
            "Non-trainable params: 0\n",
            "----------------------------------------------------------------\n",
            "Input size (MB): 0.01\n",
            "Forward/backward pass size (MB): 1.31\n",
            "Params size (MB): 0.17\n",
            "Estimated Total Size (MB): 1.49\n",
            "----------------------------------------------------------------\n"
          ]
        }
      ]
    },
    {
      "cell_type": "markdown",
      "metadata": {
        "id": "ugqPYs5RxMow"
      },
      "source": [
        "### Model Using Layer Normalization"
      ]
    },
    {
      "cell_type": "code",
      "source": [
        "model = Net_3().to(device)\n",
        "model_summary(model, input_size=(3, 32, 32))"
      ],
      "metadata": {
        "outputId": "f1769041-f656-4e07-f504-36db0a5d808c",
        "colab": {
          "base_uri": "https://localhost:8080/"
        },
        "id": "uhp3J-fexMo2"
      },
      "execution_count": 14,
      "outputs": [
        {
          "output_type": "stream",
          "name": "stdout",
          "text": [
            "----------------------------------------------------------------\n",
            "        Layer (type)               Output Shape         Param #\n",
            "================================================================\n",
            "            Conv2d-1            [-1, 8, 32, 32]             216\n",
            "         GroupNorm-2            [-1, 8, 32, 32]              16\n",
            "            Conv2d-3            [-1, 8, 32, 32]             576\n",
            "         GroupNorm-4            [-1, 8, 32, 32]              16\n",
            "            Conv2d-5            [-1, 8, 32, 32]             576\n",
            "         GroupNorm-6            [-1, 8, 32, 32]              16\n",
            "        BasicBlock-7            [-1, 8, 32, 32]               0\n",
            "            Conv2d-8            [-1, 8, 32, 32]             576\n",
            "         GroupNorm-9            [-1, 8, 32, 32]              16\n",
            "           Conv2d-10            [-1, 8, 32, 32]             576\n",
            "        GroupNorm-11            [-1, 8, 32, 32]              16\n",
            "       BasicBlock-12            [-1, 8, 32, 32]               0\n",
            "           Conv2d-13           [-1, 16, 16, 16]           1,152\n",
            "        GroupNorm-14           [-1, 16, 16, 16]              32\n",
            "           Conv2d-15           [-1, 16, 16, 16]           2,304\n",
            "        GroupNorm-16           [-1, 16, 16, 16]              32\n",
            "           Conv2d-17           [-1, 16, 16, 16]             128\n",
            "        GroupNorm-18           [-1, 16, 16, 16]              32\n",
            "       BasicBlock-19           [-1, 16, 16, 16]               0\n",
            "           Conv2d-20           [-1, 16, 16, 16]           2,304\n",
            "        GroupNorm-21           [-1, 16, 16, 16]              32\n",
            "           Conv2d-22           [-1, 16, 16, 16]           2,304\n",
            "        GroupNorm-23           [-1, 16, 16, 16]              32\n",
            "       BasicBlock-24           [-1, 16, 16, 16]               0\n",
            "           Conv2d-25             [-1, 32, 8, 8]           4,608\n",
            "        GroupNorm-26             [-1, 32, 8, 8]              64\n",
            "           Conv2d-27             [-1, 32, 8, 8]           9,216\n",
            "        GroupNorm-28             [-1, 32, 8, 8]              64\n",
            "           Conv2d-29             [-1, 32, 8, 8]             512\n",
            "        GroupNorm-30             [-1, 32, 8, 8]              64\n",
            "       BasicBlock-31             [-1, 32, 8, 8]               0\n",
            "           Conv2d-32             [-1, 32, 8, 8]           9,216\n",
            "        GroupNorm-33             [-1, 32, 8, 8]              64\n",
            "           Conv2d-34             [-1, 32, 8, 8]           9,216\n",
            "        GroupNorm-35             [-1, 32, 8, 8]              64\n",
            "       BasicBlock-36             [-1, 32, 8, 8]               0\n",
            "AdaptiveAvgPool2d-37             [-1, 32, 1, 1]               0\n",
            "           Linear-38                   [-1, 10]             330\n",
            "================================================================\n",
            "Total params: 44,370\n",
            "Trainable params: 44,370\n",
            "Non-trainable params: 0\n",
            "----------------------------------------------------------------\n",
            "Input size (MB): 0.01\n",
            "Forward/backward pass size (MB): 1.31\n",
            "Params size (MB): 0.17\n",
            "Estimated Total Size (MB): 1.49\n",
            "----------------------------------------------------------------\n"
          ]
        }
      ]
    },
    {
      "cell_type": "markdown",
      "metadata": {
        "id": "3c_WGklOFK6X"
      },
      "source": [
        "## Train the Model"
      ]
    },
    {
      "cell_type": "markdown",
      "metadata": {
        "id": "8NW3-hTjgC3M"
      },
      "source": [
        "### Model Batch Normalization"
      ]
    },
    {
      "cell_type": "code",
      "source": [
        "from tqdm import tqdm\n",
        "\n",
        "model = Net_1().to(device)\n",
        "optimizer = optim.SGD(model.parameters(), lr=0.01, momentum=0.9,  weight_decay=5e-4)\n",
        "scheduler = optim.lr_scheduler.StepLR(optimizer, step_size=8, gamma=0.1, verbose=True)\n",
        "num_epochs = 20\n",
        "criterion = nn.CrossEntropyLoss() #F.nll_loss\n",
        "reset_variables()\n",
        "\n",
        "for epoch in range(1, num_epochs+1):\n",
        "  print(f'Epoch {epoch}')\n",
        "  train(model, device, train_loader, optimizer,criterion)\n",
        "  test(model, device, test_loader, criterion)\n",
        "  scheduler.step()"
      ],
      "metadata": {
        "colab": {
          "base_uri": "https://localhost:8080/"
        },
        "id": "JKe5VzImuhdG",
        "outputId": "7ce7a40a-5bb2-4578-e4b5-52bd348b389a"
      },
      "execution_count": 16,
      "outputs": [
        {
          "output_type": "stream",
          "name": "stdout",
          "text": [
            "Adjusting learning rate of group 0 to 1.0000e-02.\n",
            "Epoch 1\n"
          ]
        },
        {
          "output_type": "stream",
          "name": "stderr",
          "text": [
            "Train: Loss=1.5820 Batch_id=781 Accuracy=38.12: 100%|██████████| 782/782 [00:49<00:00, 15.65it/s]\n"
          ]
        },
        {
          "output_type": "stream",
          "name": "stdout",
          "text": [
            "Test set: Average loss: 0.0326, Accuracy: 3438/10000 (34.38%)\n",
            "\n",
            "Adjusting learning rate of group 0 to 1.0000e-02.\n",
            "Epoch 2\n"
          ]
        },
        {
          "output_type": "stream",
          "name": "stderr",
          "text": [
            "Train: Loss=1.1032 Batch_id=781 Accuracy=53.04: 100%|██████████| 782/782 [00:53<00:00, 14.59it/s]\n"
          ]
        },
        {
          "output_type": "stream",
          "name": "stdout",
          "text": [
            "Test set: Average loss: 0.0217, Accuracy: 5022/10000 (50.22%)\n",
            "\n",
            "Adjusting learning rate of group 0 to 1.0000e-02.\n",
            "Epoch 3\n"
          ]
        },
        {
          "output_type": "stream",
          "name": "stderr",
          "text": [
            "Train: Loss=1.1822 Batch_id=781 Accuracy=58.66: 100%|██████████| 782/782 [00:58<00:00, 13.30it/s]\n"
          ]
        },
        {
          "output_type": "stream",
          "name": "stdout",
          "text": [
            "Test set: Average loss: 0.0205, Accuracy: 5422/10000 (54.22%)\n",
            "\n",
            "Adjusting learning rate of group 0 to 1.0000e-02.\n",
            "Epoch 4\n"
          ]
        },
        {
          "output_type": "stream",
          "name": "stderr",
          "text": [
            "Train: Loss=1.1865 Batch_id=781 Accuracy=62.14: 100%|██████████| 782/782 [00:50<00:00, 15.58it/s]\n"
          ]
        },
        {
          "output_type": "stream",
          "name": "stdout",
          "text": [
            "Test set: Average loss: 0.0236, Accuracy: 5132/10000 (51.32%)\n",
            "\n",
            "Adjusting learning rate of group 0 to 1.0000e-02.\n",
            "Epoch 5\n"
          ]
        },
        {
          "output_type": "stream",
          "name": "stderr",
          "text": [
            "Train: Loss=1.4535 Batch_id=781 Accuracy=64.13: 100%|██████████| 782/782 [00:54<00:00, 14.26it/s]\n"
          ]
        },
        {
          "output_type": "stream",
          "name": "stdout",
          "text": [
            "Test set: Average loss: 0.0228, Accuracy: 5489/10000 (54.89%)\n",
            "\n",
            "Adjusting learning rate of group 0 to 1.0000e-02.\n",
            "Epoch 6\n"
          ]
        },
        {
          "output_type": "stream",
          "name": "stderr",
          "text": [
            "Train: Loss=1.4951 Batch_id=781 Accuracy=66.17: 100%|██████████| 782/782 [00:52<00:00, 15.02it/s]\n"
          ]
        },
        {
          "output_type": "stream",
          "name": "stdout",
          "text": [
            "Test set: Average loss: 0.0183, Accuracy: 6100/10000 (61.00%)\n",
            "\n",
            "Adjusting learning rate of group 0 to 1.0000e-02.\n",
            "Epoch 7\n"
          ]
        },
        {
          "output_type": "stream",
          "name": "stderr",
          "text": [
            "Train: Loss=0.7515 Batch_id=781 Accuracy=67.89: 100%|██████████| 782/782 [00:50<00:00, 15.53it/s]\n"
          ]
        },
        {
          "output_type": "stream",
          "name": "stdout",
          "text": [
            "Test set: Average loss: 0.0175, Accuracy: 6100/10000 (61.00%)\n",
            "\n",
            "Adjusting learning rate of group 0 to 1.0000e-02.\n",
            "Epoch 8\n"
          ]
        },
        {
          "output_type": "stream",
          "name": "stderr",
          "text": [
            "Train: Loss=1.3726 Batch_id=781 Accuracy=69.14: 100%|██████████| 782/782 [00:50<00:00, 15.48it/s]\n"
          ]
        },
        {
          "output_type": "stream",
          "name": "stdout",
          "text": [
            "Test set: Average loss: 0.0181, Accuracy: 6067/10000 (60.67%)\n",
            "\n",
            "Adjusting learning rate of group 0 to 1.0000e-03.\n",
            "Epoch 9\n"
          ]
        },
        {
          "output_type": "stream",
          "name": "stderr",
          "text": [
            "Train: Loss=0.6641 Batch_id=781 Accuracy=72.31: 100%|██████████| 782/782 [00:59<00:00, 13.17it/s]\n"
          ]
        },
        {
          "output_type": "stream",
          "name": "stdout",
          "text": [
            "Test set: Average loss: 0.0143, Accuracy: 6810/10000 (68.10%)\n",
            "\n",
            "Adjusting learning rate of group 0 to 1.0000e-03.\n",
            "Epoch 10\n"
          ]
        },
        {
          "output_type": "stream",
          "name": "stderr",
          "text": [
            "Train: Loss=0.5117 Batch_id=781 Accuracy=73.48: 100%|██████████| 782/782 [00:49<00:00, 15.71it/s]\n"
          ]
        },
        {
          "output_type": "stream",
          "name": "stdout",
          "text": [
            "Test set: Average loss: 0.0147, Accuracy: 6771/10000 (67.71%)\n",
            "\n",
            "Adjusting learning rate of group 0 to 1.0000e-03.\n",
            "Epoch 11\n"
          ]
        },
        {
          "output_type": "stream",
          "name": "stderr",
          "text": [
            "Train: Loss=0.8442 Batch_id=781 Accuracy=73.50: 100%|██████████| 782/782 [00:52<00:00, 14.86it/s]\n"
          ]
        },
        {
          "output_type": "stream",
          "name": "stdout",
          "text": [
            "Test set: Average loss: 0.0137, Accuracy: 7001/10000 (70.01%)\n",
            "\n",
            "Adjusting learning rate of group 0 to 1.0000e-03.\n",
            "Epoch 12\n"
          ]
        },
        {
          "output_type": "stream",
          "name": "stderr",
          "text": [
            "Train: Loss=0.8873 Batch_id=781 Accuracy=73.78: 100%|██████████| 782/782 [00:53<00:00, 14.50it/s]\n"
          ]
        },
        {
          "output_type": "stream",
          "name": "stdout",
          "text": [
            "Test set: Average loss: 0.0138, Accuracy: 6959/10000 (69.59%)\n",
            "\n",
            "Adjusting learning rate of group 0 to 1.0000e-03.\n",
            "Epoch 13\n"
          ]
        },
        {
          "output_type": "stream",
          "name": "stderr",
          "text": [
            "Train: Loss=1.1975 Batch_id=781 Accuracy=73.92: 100%|██████████| 782/782 [00:53<00:00, 14.65it/s]\n"
          ]
        },
        {
          "output_type": "stream",
          "name": "stdout",
          "text": [
            "Test set: Average loss: 0.0138, Accuracy: 6958/10000 (69.58%)\n",
            "\n",
            "Adjusting learning rate of group 0 to 1.0000e-03.\n",
            "Epoch 14\n"
          ]
        },
        {
          "output_type": "stream",
          "name": "stderr",
          "text": [
            "Train: Loss=0.9402 Batch_id=781 Accuracy=74.17: 100%|██████████| 782/782 [00:49<00:00, 15.82it/s]\n"
          ]
        },
        {
          "output_type": "stream",
          "name": "stdout",
          "text": [
            "Test set: Average loss: 0.0136, Accuracy: 7037/10000 (70.37%)\n",
            "\n",
            "Adjusting learning rate of group 0 to 1.0000e-03.\n",
            "Epoch 15\n"
          ]
        },
        {
          "output_type": "stream",
          "name": "stderr",
          "text": [
            "Train: Loss=0.6556 Batch_id=781 Accuracy=74.53: 100%|██████████| 782/782 [00:48<00:00, 16.07it/s]\n"
          ]
        },
        {
          "output_type": "stream",
          "name": "stdout",
          "text": [
            "Test set: Average loss: 0.0135, Accuracy: 7052/10000 (70.52%)\n",
            "\n",
            "Adjusting learning rate of group 0 to 1.0000e-03.\n",
            "Epoch 16\n"
          ]
        },
        {
          "output_type": "stream",
          "name": "stderr",
          "text": [
            "Train: Loss=0.7520 Batch_id=781 Accuracy=74.26: 100%|██████████| 782/782 [00:48<00:00, 16.19it/s]\n"
          ]
        },
        {
          "output_type": "stream",
          "name": "stdout",
          "text": [
            "Test set: Average loss: 0.0139, Accuracy: 6996/10000 (69.96%)\n",
            "\n",
            "Adjusting learning rate of group 0 to 1.0000e-04.\n",
            "Epoch 17\n"
          ]
        },
        {
          "output_type": "stream",
          "name": "stderr",
          "text": [
            "Train: Loss=0.6550 Batch_id=781 Accuracy=75.05: 100%|██████████| 782/782 [00:48<00:00, 16.19it/s]\n"
          ]
        },
        {
          "output_type": "stream",
          "name": "stdout",
          "text": [
            "Test set: Average loss: 0.0135, Accuracy: 7058/10000 (70.58%)\n",
            "\n",
            "Adjusting learning rate of group 0 to 1.0000e-04.\n",
            "Epoch 18\n"
          ]
        },
        {
          "output_type": "stream",
          "name": "stderr",
          "text": [
            "Train: Loss=0.3938 Batch_id=781 Accuracy=75.00: 100%|██████████| 782/782 [00:51<00:00, 15.31it/s]\n"
          ]
        },
        {
          "output_type": "stream",
          "name": "stdout",
          "text": [
            "Test set: Average loss: 0.0135, Accuracy: 7047/10000 (70.47%)\n",
            "\n",
            "Adjusting learning rate of group 0 to 1.0000e-04.\n",
            "Epoch 19\n"
          ]
        },
        {
          "output_type": "stream",
          "name": "stderr",
          "text": [
            "Train: Loss=0.9182 Batch_id=781 Accuracy=75.15: 100%|██████████| 782/782 [00:49<00:00, 15.74it/s]\n"
          ]
        },
        {
          "output_type": "stream",
          "name": "stdout",
          "text": [
            "Test set: Average loss: 0.0132, Accuracy: 7102/10000 (71.02%)\n",
            "\n",
            "Adjusting learning rate of group 0 to 1.0000e-04.\n",
            "Epoch 20\n"
          ]
        },
        {
          "output_type": "stream",
          "name": "stderr",
          "text": [
            "Train: Loss=0.6281 Batch_id=781 Accuracy=75.06: 100%|██████████| 782/782 [00:49<00:00, 15.80it/s]\n"
          ]
        },
        {
          "output_type": "stream",
          "name": "stdout",
          "text": [
            "Test set: Average loss: 0.0132, Accuracy: 7107/10000 (71.07%)\n",
            "\n",
            "Adjusting learning rate of group 0 to 1.0000e-04.\n"
          ]
        }
      ]
    },
    {
      "cell_type": "markdown",
      "metadata": {
        "id": "aadmNTzo5Erq"
      },
      "source": [
        "### Model Using Group Normalization"
      ]
    },
    {
      "cell_type": "code",
      "source": [
        "from tqdm import tqdm\n",
        "\n",
        "model = Net_2().to(device)\n",
        "optimizer = optim.SGD(model.parameters(), lr=0.01, momentum=0.9,  weight_decay=5e-4)\n",
        "scheduler = optim.lr_scheduler.StepLR(optimizer, step_size=8, gamma=0.1, verbose=True)\n",
        "num_epochs = 20\n",
        "criterion = nn.CrossEntropyLoss() #F.nll_loss\n",
        "reset_variables()\n",
        "\n",
        "for epoch in range(1, num_epochs+1):\n",
        "  print(f'Epoch {epoch}')\n",
        "  train(model, device, train_loader, optimizer,criterion)\n",
        "  test(model, device, test_loader, criterion)\n",
        "  scheduler.step()"
      ],
      "metadata": {
        "colab": {
          "base_uri": "https://localhost:8080/"
        },
        "id": "JJYmA_SkQfvh",
        "outputId": "46dd46e7-7eb5-455e-eb17-2cd0cd1b02c3"
      },
      "execution_count": 17,
      "outputs": [
        {
          "output_type": "stream",
          "name": "stdout",
          "text": [
            "Adjusting learning rate of group 0 to 1.0000e-02.\n",
            "Epoch 1\n"
          ]
        },
        {
          "output_type": "stream",
          "name": "stderr",
          "text": [
            "Train: Loss=1.7671 Batch_id=781 Accuracy=28.80: 100%|██████████| 782/782 [00:50<00:00, 15.60it/s]\n"
          ]
        },
        {
          "output_type": "stream",
          "name": "stdout",
          "text": [
            "Test set: Average loss: 0.0274, Accuracy: 3682/10000 (36.82%)\n",
            "\n",
            "Adjusting learning rate of group 0 to 1.0000e-02.\n",
            "Epoch 2\n"
          ]
        },
        {
          "output_type": "stream",
          "name": "stderr",
          "text": [
            "Train: Loss=1.4305 Batch_id=781 Accuracy=42.27: 100%|██████████| 782/782 [00:50<00:00, 15.46it/s]\n"
          ]
        },
        {
          "output_type": "stream",
          "name": "stdout",
          "text": [
            "Test set: Average loss: 0.0234, Accuracy: 4589/10000 (45.89%)\n",
            "\n",
            "Adjusting learning rate of group 0 to 1.0000e-02.\n",
            "Epoch 3\n"
          ]
        },
        {
          "output_type": "stream",
          "name": "stderr",
          "text": [
            "Train: Loss=1.3690 Batch_id=781 Accuracy=47.75: 100%|██████████| 782/782 [00:49<00:00, 15.94it/s]\n"
          ]
        },
        {
          "output_type": "stream",
          "name": "stdout",
          "text": [
            "Test set: Average loss: 0.0215, Accuracy: 5001/10000 (50.01%)\n",
            "\n",
            "Adjusting learning rate of group 0 to 1.0000e-02.\n",
            "Epoch 4\n"
          ]
        },
        {
          "output_type": "stream",
          "name": "stderr",
          "text": [
            "Train: Loss=1.5355 Batch_id=781 Accuracy=51.47: 100%|██████████| 782/782 [00:50<00:00, 15.62it/s]\n"
          ]
        },
        {
          "output_type": "stream",
          "name": "stdout",
          "text": [
            "Test set: Average loss: 0.0197, Accuracy: 5401/10000 (54.01%)\n",
            "\n",
            "Adjusting learning rate of group 0 to 1.0000e-02.\n",
            "Epoch 5\n"
          ]
        },
        {
          "output_type": "stream",
          "name": "stderr",
          "text": [
            "Train: Loss=1.6350 Batch_id=781 Accuracy=54.37: 100%|██████████| 782/782 [00:50<00:00, 15.47it/s]\n"
          ]
        },
        {
          "output_type": "stream",
          "name": "stdout",
          "text": [
            "Test set: Average loss: 0.0193, Accuracy: 5574/10000 (55.74%)\n",
            "\n",
            "Adjusting learning rate of group 0 to 1.0000e-02.\n",
            "Epoch 6\n"
          ]
        },
        {
          "output_type": "stream",
          "name": "stderr",
          "text": [
            "Train: Loss=0.9587 Batch_id=781 Accuracy=56.92: 100%|██████████| 782/782 [00:49<00:00, 15.93it/s]\n"
          ]
        },
        {
          "output_type": "stream",
          "name": "stdout",
          "text": [
            "Test set: Average loss: 0.0184, Accuracy: 5823/10000 (58.23%)\n",
            "\n",
            "Adjusting learning rate of group 0 to 1.0000e-02.\n",
            "Epoch 7\n"
          ]
        },
        {
          "output_type": "stream",
          "name": "stderr",
          "text": [
            "Train: Loss=1.2884 Batch_id=781 Accuracy=58.96: 100%|██████████| 782/782 [00:49<00:00, 15.73it/s]\n"
          ]
        },
        {
          "output_type": "stream",
          "name": "stdout",
          "text": [
            "Test set: Average loss: 0.0165, Accuracy: 6230/10000 (62.30%)\n",
            "\n",
            "Adjusting learning rate of group 0 to 1.0000e-02.\n",
            "Epoch 8\n"
          ]
        },
        {
          "output_type": "stream",
          "name": "stderr",
          "text": [
            "Train: Loss=1.1260 Batch_id=781 Accuracy=60.00: 100%|██████████| 782/782 [00:50<00:00, 15.43it/s]\n"
          ]
        },
        {
          "output_type": "stream",
          "name": "stdout",
          "text": [
            "Test set: Average loss: 0.0173, Accuracy: 6136/10000 (61.36%)\n",
            "\n",
            "Adjusting learning rate of group 0 to 1.0000e-03.\n",
            "Epoch 9\n"
          ]
        },
        {
          "output_type": "stream",
          "name": "stderr",
          "text": [
            "Train: Loss=0.9252 Batch_id=781 Accuracy=65.61: 100%|██████████| 782/782 [00:49<00:00, 15.91it/s]\n"
          ]
        },
        {
          "output_type": "stream",
          "name": "stdout",
          "text": [
            "Test set: Average loss: 0.0150, Accuracy: 6669/10000 (66.69%)\n",
            "\n",
            "Adjusting learning rate of group 0 to 1.0000e-03.\n",
            "Epoch 10\n"
          ]
        },
        {
          "output_type": "stream",
          "name": "stderr",
          "text": [
            "Train: Loss=0.7284 Batch_id=781 Accuracy=66.01: 100%|██████████| 782/782 [00:48<00:00, 15.98it/s]\n"
          ]
        },
        {
          "output_type": "stream",
          "name": "stdout",
          "text": [
            "Test set: Average loss: 0.0150, Accuracy: 6666/10000 (66.66%)\n",
            "\n",
            "Adjusting learning rate of group 0 to 1.0000e-03.\n",
            "Epoch 11\n"
          ]
        },
        {
          "output_type": "stream",
          "name": "stderr",
          "text": [
            "Train: Loss=0.2324 Batch_id=781 Accuracy=66.79: 100%|██████████| 782/782 [00:50<00:00, 15.34it/s]\n"
          ]
        },
        {
          "output_type": "stream",
          "name": "stdout",
          "text": [
            "Test set: Average loss: 0.0152, Accuracy: 6640/10000 (66.40%)\n",
            "\n",
            "Adjusting learning rate of group 0 to 1.0000e-03.\n",
            "Epoch 12\n"
          ]
        },
        {
          "output_type": "stream",
          "name": "stderr",
          "text": [
            "Train: Loss=0.6075 Batch_id=781 Accuracy=67.03: 100%|██████████| 782/782 [00:50<00:00, 15.61it/s]\n"
          ]
        },
        {
          "output_type": "stream",
          "name": "stdout",
          "text": [
            "Test set: Average loss: 0.0147, Accuracy: 6747/10000 (67.47%)\n",
            "\n",
            "Adjusting learning rate of group 0 to 1.0000e-03.\n",
            "Epoch 13\n"
          ]
        },
        {
          "output_type": "stream",
          "name": "stderr",
          "text": [
            "Train: Loss=0.8634 Batch_id=781 Accuracy=67.33: 100%|██████████| 782/782 [00:49<00:00, 15.94it/s]\n"
          ]
        },
        {
          "output_type": "stream",
          "name": "stdout",
          "text": [
            "Test set: Average loss: 0.0148, Accuracy: 6723/10000 (67.23%)\n",
            "\n",
            "Adjusting learning rate of group 0 to 1.0000e-03.\n",
            "Epoch 14\n"
          ]
        },
        {
          "output_type": "stream",
          "name": "stderr",
          "text": [
            "Train: Loss=0.5252 Batch_id=781 Accuracy=67.94: 100%|██████████| 782/782 [00:50<00:00, 15.49it/s]\n"
          ]
        },
        {
          "output_type": "stream",
          "name": "stdout",
          "text": [
            "Test set: Average loss: 0.0148, Accuracy: 6753/10000 (67.53%)\n",
            "\n",
            "Adjusting learning rate of group 0 to 1.0000e-03.\n",
            "Epoch 15\n"
          ]
        },
        {
          "output_type": "stream",
          "name": "stderr",
          "text": [
            "Train: Loss=0.7255 Batch_id=781 Accuracy=68.07: 100%|██████████| 782/782 [00:50<00:00, 15.46it/s]\n"
          ]
        },
        {
          "output_type": "stream",
          "name": "stdout",
          "text": [
            "Test set: Average loss: 0.0139, Accuracy: 6878/10000 (68.78%)\n",
            "\n",
            "Adjusting learning rate of group 0 to 1.0000e-03.\n",
            "Epoch 16\n"
          ]
        },
        {
          "output_type": "stream",
          "name": "stderr",
          "text": [
            "Train: Loss=0.6548 Batch_id=781 Accuracy=68.24: 100%|██████████| 782/782 [00:48<00:00, 15.98it/s]\n"
          ]
        },
        {
          "output_type": "stream",
          "name": "stdout",
          "text": [
            "Test set: Average loss: 0.0145, Accuracy: 6828/10000 (68.28%)\n",
            "\n",
            "Adjusting learning rate of group 0 to 1.0000e-04.\n",
            "Epoch 17\n"
          ]
        },
        {
          "output_type": "stream",
          "name": "stderr",
          "text": [
            "Train: Loss=0.7907 Batch_id=781 Accuracy=69.48: 100%|██████████| 782/782 [00:49<00:00, 15.69it/s]\n"
          ]
        },
        {
          "output_type": "stream",
          "name": "stdout",
          "text": [
            "Test set: Average loss: 0.0139, Accuracy: 6924/10000 (69.24%)\n",
            "\n",
            "Adjusting learning rate of group 0 to 1.0000e-04.\n",
            "Epoch 18\n"
          ]
        },
        {
          "output_type": "stream",
          "name": "stderr",
          "text": [
            "Train: Loss=0.7577 Batch_id=781 Accuracy=69.37: 100%|██████████| 782/782 [00:50<00:00, 15.55it/s]\n"
          ]
        },
        {
          "output_type": "stream",
          "name": "stdout",
          "text": [
            "Test set: Average loss: 0.0139, Accuracy: 6947/10000 (69.47%)\n",
            "\n",
            "Adjusting learning rate of group 0 to 1.0000e-04.\n",
            "Epoch 19\n"
          ]
        },
        {
          "output_type": "stream",
          "name": "stderr",
          "text": [
            "Train: Loss=1.2135 Batch_id=781 Accuracy=69.40: 100%|██████████| 782/782 [00:48<00:00, 16.09it/s]\n"
          ]
        },
        {
          "output_type": "stream",
          "name": "stdout",
          "text": [
            "Test set: Average loss: 0.0139, Accuracy: 6943/10000 (69.43%)\n",
            "\n",
            "Adjusting learning rate of group 0 to 1.0000e-04.\n",
            "Epoch 20\n"
          ]
        },
        {
          "output_type": "stream",
          "name": "stderr",
          "text": [
            "Train: Loss=1.0948 Batch_id=781 Accuracy=69.64: 100%|██████████| 782/782 [00:50<00:00, 15.60it/s]\n"
          ]
        },
        {
          "output_type": "stream",
          "name": "stdout",
          "text": [
            "Test set: Average loss: 0.0138, Accuracy: 6935/10000 (69.35%)\n",
            "\n",
            "Adjusting learning rate of group 0 to 1.0000e-04.\n"
          ]
        }
      ]
    },
    {
      "cell_type": "markdown",
      "metadata": {
        "id": "HoFkJoNY5U5y"
      },
      "source": [
        "### Model Using Layer Normalization"
      ]
    },
    {
      "cell_type": "code",
      "source": [
        "from tqdm import tqdm\n",
        "\n",
        "model = Net_3().to(device)\n",
        "optimizer = optim.SGD(model.parameters(), lr=0.01, momentum=0.9,  weight_decay=5e-4)\n",
        "scheduler = optim.lr_scheduler.StepLR(optimizer, step_size=8, gamma=0.1, verbose=True)\n",
        "num_epochs = 20\n",
        "criterion = nn.CrossEntropyLoss() #F.nll_loss\n",
        "reset_variables()\n",
        "\n",
        "for epoch in range(1, num_epochs+1):\n",
        "  print(f'Epoch {epoch}')\n",
        "  train(model, device, train_loader, optimizer,criterion)\n",
        "  test(model, device, test_loader, criterion)\n",
        "  scheduler.step()"
      ],
      "metadata": {
        "colab": {
          "base_uri": "https://localhost:8080/"
        },
        "outputId": "69cd2f3d-118b-4eb4-f541-99cce5aebb21",
        "id": "HrKLr4sL5U6F"
      },
      "execution_count": 15,
      "outputs": [
        {
          "output_type": "stream",
          "name": "stdout",
          "text": [
            "Adjusting learning rate of group 0 to 1.0000e-02.\n",
            "Epoch 1\n"
          ]
        },
        {
          "output_type": "stream",
          "name": "stderr",
          "text": [
            "Train: Loss=1.3930 Batch_id=781 Accuracy=27.56: 100%|██████████| 782/782 [00:51<00:00, 15.10it/s]\n"
          ]
        },
        {
          "output_type": "stream",
          "name": "stdout",
          "text": [
            "Test set: Average loss: 0.0280, Accuracy: 3322/10000 (33.22%)\n",
            "\n",
            "Adjusting learning rate of group 0 to 1.0000e-02.\n",
            "Epoch 2\n"
          ]
        },
        {
          "output_type": "stream",
          "name": "stderr",
          "text": [
            "Train: Loss=1.2253 Batch_id=781 Accuracy=37.19: 100%|██████████| 782/782 [00:48<00:00, 16.13it/s]\n"
          ]
        },
        {
          "output_type": "stream",
          "name": "stdout",
          "text": [
            "Test set: Average loss: 0.0275, Accuracy: 3695/10000 (36.95%)\n",
            "\n",
            "Adjusting learning rate of group 0 to 1.0000e-02.\n",
            "Epoch 3\n"
          ]
        },
        {
          "output_type": "stream",
          "name": "stderr",
          "text": [
            "Train: Loss=1.4487 Batch_id=781 Accuracy=41.82: 100%|██████████| 782/782 [00:49<00:00, 15.91it/s]\n"
          ]
        },
        {
          "output_type": "stream",
          "name": "stdout",
          "text": [
            "Test set: Average loss: 0.0255, Accuracy: 4203/10000 (42.03%)\n",
            "\n",
            "Adjusting learning rate of group 0 to 1.0000e-02.\n",
            "Epoch 4\n"
          ]
        },
        {
          "output_type": "stream",
          "name": "stderr",
          "text": [
            "Train: Loss=1.2664 Batch_id=781 Accuracy=45.24: 100%|██████████| 782/782 [00:50<00:00, 15.40it/s]\n"
          ]
        },
        {
          "output_type": "stream",
          "name": "stdout",
          "text": [
            "Test set: Average loss: 0.0228, Accuracy: 4698/10000 (46.98%)\n",
            "\n",
            "Adjusting learning rate of group 0 to 1.0000e-02.\n",
            "Epoch 5\n"
          ]
        },
        {
          "output_type": "stream",
          "name": "stderr",
          "text": [
            "Train: Loss=0.9546 Batch_id=781 Accuracy=48.31: 100%|██████████| 782/782 [00:50<00:00, 15.51it/s]\n"
          ]
        },
        {
          "output_type": "stream",
          "name": "stdout",
          "text": [
            "Test set: Average loss: 0.0217, Accuracy: 4955/10000 (49.55%)\n",
            "\n",
            "Adjusting learning rate of group 0 to 1.0000e-02.\n",
            "Epoch 6\n"
          ]
        },
        {
          "output_type": "stream",
          "name": "stderr",
          "text": [
            "Train: Loss=0.7382 Batch_id=781 Accuracy=50.20: 100%|██████████| 782/782 [00:50<00:00, 15.39it/s]\n"
          ]
        },
        {
          "output_type": "stream",
          "name": "stdout",
          "text": [
            "Test set: Average loss: 0.0216, Accuracy: 4995/10000 (49.95%)\n",
            "\n",
            "Adjusting learning rate of group 0 to 1.0000e-02.\n",
            "Epoch 7\n"
          ]
        },
        {
          "output_type": "stream",
          "name": "stderr",
          "text": [
            "Train: Loss=1.2494 Batch_id=781 Accuracy=52.14: 100%|██████████| 782/782 [00:51<00:00, 15.06it/s]\n"
          ]
        },
        {
          "output_type": "stream",
          "name": "stdout",
          "text": [
            "Test set: Average loss: 0.0215, Accuracy: 4996/10000 (49.96%)\n",
            "\n",
            "Adjusting learning rate of group 0 to 1.0000e-02.\n",
            "Epoch 8\n"
          ]
        },
        {
          "output_type": "stream",
          "name": "stderr",
          "text": [
            "Train: Loss=1.5467 Batch_id=781 Accuracy=54.63: 100%|██████████| 782/782 [00:51<00:00, 15.07it/s]\n"
          ]
        },
        {
          "output_type": "stream",
          "name": "stdout",
          "text": [
            "Test set: Average loss: 0.0202, Accuracy: 5451/10000 (54.51%)\n",
            "\n",
            "Adjusting learning rate of group 0 to 1.0000e-03.\n",
            "Epoch 9\n"
          ]
        },
        {
          "output_type": "stream",
          "name": "stderr",
          "text": [
            "Train: Loss=1.0851 Batch_id=781 Accuracy=59.32: 100%|██████████| 782/782 [00:49<00:00, 15.75it/s]\n"
          ]
        },
        {
          "output_type": "stream",
          "name": "stdout",
          "text": [
            "Test set: Average loss: 0.0180, Accuracy: 5932/10000 (59.32%)\n",
            "\n",
            "Adjusting learning rate of group 0 to 1.0000e-03.\n",
            "Epoch 10\n"
          ]
        },
        {
          "output_type": "stream",
          "name": "stderr",
          "text": [
            "Train: Loss=1.2709 Batch_id=781 Accuracy=60.39: 100%|██████████| 782/782 [00:49<00:00, 15.66it/s]\n"
          ]
        },
        {
          "output_type": "stream",
          "name": "stdout",
          "text": [
            "Test set: Average loss: 0.0181, Accuracy: 5912/10000 (59.12%)\n",
            "\n",
            "Adjusting learning rate of group 0 to 1.0000e-03.\n",
            "Epoch 11\n"
          ]
        },
        {
          "output_type": "stream",
          "name": "stderr",
          "text": [
            "Train: Loss=1.2409 Batch_id=781 Accuracy=61.05: 100%|██████████| 782/782 [00:51<00:00, 15.32it/s]\n"
          ]
        },
        {
          "output_type": "stream",
          "name": "stdout",
          "text": [
            "Test set: Average loss: 0.0171, Accuracy: 6105/10000 (61.05%)\n",
            "\n",
            "Adjusting learning rate of group 0 to 1.0000e-03.\n",
            "Epoch 12\n"
          ]
        },
        {
          "output_type": "stream",
          "name": "stderr",
          "text": [
            "Train: Loss=1.2253 Batch_id=781 Accuracy=61.22: 100%|██████████| 782/782 [00:51<00:00, 15.30it/s]\n"
          ]
        },
        {
          "output_type": "stream",
          "name": "stdout",
          "text": [
            "Test set: Average loss: 0.0179, Accuracy: 5988/10000 (59.88%)\n",
            "\n",
            "Adjusting learning rate of group 0 to 1.0000e-03.\n",
            "Epoch 13\n"
          ]
        },
        {
          "output_type": "stream",
          "name": "stderr",
          "text": [
            "Train: Loss=0.8158 Batch_id=781 Accuracy=61.49: 100%|██████████| 782/782 [00:49<00:00, 15.84it/s]\n"
          ]
        },
        {
          "output_type": "stream",
          "name": "stdout",
          "text": [
            "Test set: Average loss: 0.0173, Accuracy: 6038/10000 (60.38%)\n",
            "\n",
            "Adjusting learning rate of group 0 to 1.0000e-03.\n",
            "Epoch 14\n"
          ]
        },
        {
          "output_type": "stream",
          "name": "stderr",
          "text": [
            "Train: Loss=0.8789 Batch_id=781 Accuracy=61.73: 100%|██████████| 782/782 [00:49<00:00, 15.74it/s]\n"
          ]
        },
        {
          "output_type": "stream",
          "name": "stdout",
          "text": [
            "Test set: Average loss: 0.0172, Accuracy: 6109/10000 (61.09%)\n",
            "\n",
            "Adjusting learning rate of group 0 to 1.0000e-03.\n",
            "Epoch 15\n"
          ]
        },
        {
          "output_type": "stream",
          "name": "stderr",
          "text": [
            "Train: Loss=0.7140 Batch_id=781 Accuracy=62.42: 100%|██████████| 782/782 [00:51<00:00, 15.28it/s]\n"
          ]
        },
        {
          "output_type": "stream",
          "name": "stdout",
          "text": [
            "Test set: Average loss: 0.0168, Accuracy: 6169/10000 (61.69%)\n",
            "\n",
            "Adjusting learning rate of group 0 to 1.0000e-03.\n",
            "Epoch 16\n"
          ]
        },
        {
          "output_type": "stream",
          "name": "stderr",
          "text": [
            "Train: Loss=0.9679 Batch_id=781 Accuracy=62.39: 100%|██████████| 782/782 [00:49<00:00, 15.80it/s]\n"
          ]
        },
        {
          "output_type": "stream",
          "name": "stdout",
          "text": [
            "Test set: Average loss: 0.0177, Accuracy: 6024/10000 (60.24%)\n",
            "\n",
            "Adjusting learning rate of group 0 to 1.0000e-04.\n",
            "Epoch 17\n"
          ]
        },
        {
          "output_type": "stream",
          "name": "stderr",
          "text": [
            "Train: Loss=0.8852 Batch_id=781 Accuracy=63.46: 100%|██████████| 782/782 [00:49<00:00, 15.94it/s]\n"
          ]
        },
        {
          "output_type": "stream",
          "name": "stdout",
          "text": [
            "Test set: Average loss: 0.0167, Accuracy: 6261/10000 (62.61%)\n",
            "\n",
            "Adjusting learning rate of group 0 to 1.0000e-04.\n",
            "Epoch 18\n"
          ]
        },
        {
          "output_type": "stream",
          "name": "stderr",
          "text": [
            "Train: Loss=1.2595 Batch_id=781 Accuracy=63.84: 100%|██████████| 782/782 [00:56<00:00, 13.95it/s]\n"
          ]
        },
        {
          "output_type": "stream",
          "name": "stdout",
          "text": [
            "Test set: Average loss: 0.0167, Accuracy: 6253/10000 (62.53%)\n",
            "\n",
            "Adjusting learning rate of group 0 to 1.0000e-04.\n",
            "Epoch 19\n"
          ]
        },
        {
          "output_type": "stream",
          "name": "stderr",
          "text": [
            "Train: Loss=1.3382 Batch_id=781 Accuracy=63.68: 100%|██████████| 782/782 [00:50<00:00, 15.41it/s]\n"
          ]
        },
        {
          "output_type": "stream",
          "name": "stdout",
          "text": [
            "Test set: Average loss: 0.0165, Accuracy: 6272/10000 (62.72%)\n",
            "\n",
            "Adjusting learning rate of group 0 to 1.0000e-04.\n",
            "Epoch 20\n"
          ]
        },
        {
          "output_type": "stream",
          "name": "stderr",
          "text": [
            "Train: Loss=0.9732 Batch_id=781 Accuracy=63.88: 100%|██████████| 782/782 [00:50<00:00, 15.54it/s]\n"
          ]
        },
        {
          "output_type": "stream",
          "name": "stdout",
          "text": [
            "Test set: Average loss: 0.0165, Accuracy: 6272/10000 (62.72%)\n",
            "\n",
            "Adjusting learning rate of group 0 to 1.0000e-04.\n"
          ]
        }
      ]
    },
    {
      "cell_type": "markdown",
      "metadata": {
        "id": "6O4PipKEr4lC"
      },
      "source": [
        "## Plot Misclassified images"
      ]
    },
    {
      "cell_type": "code",
      "execution_count": 28,
      "metadata": {
        "colab": {
          "base_uri": "https://localhost:8080/",
          "height": 1000
        },
        "id": "sk3W9kypr4lH",
        "outputId": "a972bd1d-49e7-4b8b-d8e8-07f85ea692f5"
      },
      "outputs": [
        {
          "output_type": "stream",
          "name": "stderr",
          "text": [
            "WARNING:matplotlib.image:Clipping input data to the valid range for imshow with RGB data ([0..1] for floats or [0..255] for integers).\n",
            "WARNING:matplotlib.image:Clipping input data to the valid range for imshow with RGB data ([0..1] for floats or [0..255] for integers).\n",
            "WARNING:matplotlib.image:Clipping input data to the valid range for imshow with RGB data ([0..1] for floats or [0..255] for integers).\n",
            "WARNING:matplotlib.image:Clipping input data to the valid range for imshow with RGB data ([0..1] for floats or [0..255] for integers).\n",
            "WARNING:matplotlib.image:Clipping input data to the valid range for imshow with RGB data ([0..1] for floats or [0..255] for integers).\n",
            "WARNING:matplotlib.image:Clipping input data to the valid range for imshow with RGB data ([0..1] for floats or [0..255] for integers).\n",
            "WARNING:matplotlib.image:Clipping input data to the valid range for imshow with RGB data ([0..1] for floats or [0..255] for integers).\n",
            "WARNING:matplotlib.image:Clipping input data to the valid range for imshow with RGB data ([0..1] for floats or [0..255] for integers).\n",
            "WARNING:matplotlib.image:Clipping input data to the valid range for imshow with RGB data ([0..1] for floats or [0..255] for integers).\n",
            "WARNING:matplotlib.image:Clipping input data to the valid range for imshow with RGB data ([0..1] for floats or [0..255] for integers).\n"
          ]
        },
        {
          "output_type": "display_data",
          "data": {
            "text/plain": [
              "<Figure size 1000x1000 with 10 Axes>"
            ],
            "image/png": "[encoded data removed]"
          },
          "metadata": {}
        }
      ],
      "source": [
        "import torch\n",
        "import torchvision\n",
        "import matplotlib.pyplot as plt\n",
        "\n",
        "\n",
        "# Function to get misclassified images\n",
        "def get_misclassified_images(model, test_loader, device):\n",
        "    misclassified_images = []\n",
        "    misclassified_labels = []\n",
        "    correct_labels = []\n",
        "\n",
        "    model.eval()\n",
        "\n",
        "    with torch.no_grad():\n",
        "        for data, target in test_loader:\n",
        "            data, target = data.to(device), target.to(device)\n",
        "            output = model(data)\n",
        "            pred = output.argmax(dim=1)\n",
        "\n",
        "            misclassified_idx = (pred != target).nonzero(as_tuple=True)[0]\n",
        "            misclassified_images.extend(data[misclassified_idx])\n",
        "            misclassified_labels.extend(pred[misclassified_idx])\n",
        "            correct_labels.extend(target[misclassified_idx])\n",
        "\n",
        "            # Map label indices to class names\n",
        "            misclassified_labels = [classes[label] for label in misclassified_labels]\n",
        "            correct_labels = [classes[label] for label in correct_labels]\n",
        "\n",
        "            if len(misclassified_images) >= 10:\n",
        "                break\n",
        "\n",
        "    return misclassified_images, misclassified_labels, correct_labels\n",
        "\n",
        "\n",
        "# Function to plot misclassified images\n",
        "def plot_misclassified_images(images, pred_labels, correct_labels):\n",
        "    fig, axes = plt.subplots(5, 2, figsize=(10, 10))\n",
        "    fig.suptitle(\"Misclassified Images\", fontsize=16)\n",
        "\n",
        "    for i, ax in enumerate(axes.flat):\n",
        "        ax.imshow(images[i].cpu().permute(1, 2, 0))\n",
        "        ax.axis(\"off\")\n",
        "        ax.set_title(f\"Predicted: {pred_labels[i]}, Correct: {correct_labels[i]}\")\n",
        "\n",
        "    plt.tight_layout()\n",
        "    plt.show()\n",
        "\n",
        "\n",
        "\n",
        "# Get the misclassified images\n",
        "misclassified_images, pred_labels, correct_labels = get_misclassified_images(model, test_loader, device)\n",
        "\n",
        "# Plot the misclassified images\n",
        "plot_misclassified_images(misclassified_images, pred_labels, correct_labels)\n"
      ]
    }
  ],
  "metadata": {
    "colab": {
      "collapsed_sections": [
        "HoFkJoNY5U5y"
      ],
      "provenance": [],
      "gpuType": "T4"
    },
    "kernelspec": {
      "display_name": "Python 3",
      "name": "python3"
    },
    "language_info": {
      "name": "python"
    }
  },
  "nbformat": 4,
  "nbformat_minor": 0
}